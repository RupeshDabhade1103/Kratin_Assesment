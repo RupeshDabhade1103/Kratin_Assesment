{
 "cells": [
  {
   "cell_type": "code",
   "execution_count": 1,
   "id": "c91e976a",
   "metadata": {},
   "outputs": [
    {
     "name": "stdout",
     "output_type": "stream",
     "text": [
      "Collecting serial\n",
      "  Downloading serial-0.0.97-py2.py3-none-any.whl (40 kB)\n",
      "Collecting iso8601>=0.1.12\n",
      "  Downloading iso8601-1.1.0-py3-none-any.whl (9.9 kB)\n",
      "Requirement already satisfied: pyyaml>=3.13 in c:\\users\\neha\\anaconda3\\lib\\site-packages (from serial) (5.4.1)\n",
      "Requirement already satisfied: future>=0.17.1 in c:\\users\\neha\\anaconda3\\lib\\site-packages (from serial) (0.18.2)\n",
      "Installing collected packages: iso8601, serial\n",
      "Successfully installed iso8601-1.1.0 serial-0.0.97\n",
      "Note: you may need to restart the kernel to use updated packages.\n"
     ]
    }
   ],
   "source": [
    "pip install serial"
   ]
  },
  {
   "cell_type": "code",
   "execution_count": 4,
   "id": "95696f61",
   "metadata": {},
   "outputs": [
    {
     "name": "stdout",
     "output_type": "stream",
     "text": [
      "Requirement already satisfied: geopy in c:\\users\\neha\\anaconda3\\lib\\site-packages (2.3.0)Note: you may need to restart the kernel to use updated packages.\n",
      "Requirement already satisfied: geographiclib<3,>=1.52 in c:\\users\\neha\\anaconda3\\lib\\site-packages (from geopy) (2.0)\n",
      "\n"
     ]
    }
   ],
   "source": [
    "pip install geopy"
   ]
  },
  {
   "cell_type": "code",
   "execution_count": null,
   "id": "8d3b352a",
   "metadata": {},
   "outputs": [],
   "source": [
    "import serial  # for reading data from serial port\n",
    "import datetime  # for timestamp\n",
    "import time  # for delay\n",
    "from geopy.geocoders import Nominatim  # for getting location from coordinates\n",
    "\n",
    "class FitnessTracker:\n",
    "    def __init__(self, device_id, battery_level, is_connected):\n",
    "        self.device_id = device_id\n",
    "        self.battery_level = battery_level\n",
    "        self.is_connected = is_connected\n",
    "\n",
    "    def measure_vital_signs(self):\n",
    "        # code to measure heart rate, blood pressure, and oxygen saturation levels from sensors\n",
    "        hr = get_heart_rate()\n",
    "        bp = get_blood_pressure()\n",
    "        spo2 = get_oxygen_saturation()\n",
    "        return VitalSigns(hr, bp, spo2)\n",
    "\n",
    "    def get_location(self):\n",
    "        # code to get user's location from GPS or other location tracking technology\n",
    "        geolocator = Nominatim(user_agent=\"fitness_tracker\")\n",
    "        location = geolocator.reverse(\"52.509669, 13.376294\")\n",
    "        return Location(location.latitude, location.longitude, datetime.datetime.now())\n",
    "\n",
    "class VitalSigns:\n",
    "    def __init__(self, heart_rate, blood_pressure, oxygen_saturation):\n",
    "        self.heart_rate = heart_rate\n",
    "        self.blood_pressure = blood_pressure\n",
    "        self.oxygen_saturation = oxygen_saturation\n",
    "\n",
    "class Location:\n",
    "    def __init__(self, latitude, longitude, timestamp):\n",
    "        self.latitude = latitude\n",
    "        self.longitude = longitude\n",
    "        self.timestamp = timestamp\n",
    "\n",
    "class User:\n",
    "    def __init__(self, user_id, name, age, gender, height, weight, contact_info):\n",
    "        self.user_id = user_id\n",
    "        self.name = name\n",
    "        self.age = age\n",
    "        self.gender = gender\n",
    "        self.height = height\n",
    "        self.weight = weight\n",
    "        self.contact_info = contact_info\n",
    "        self.vital_signs = []\n",
    "        self.locations = []\n",
    "\n",
    "    def associate_vital_signs(self, vital_signs):\n",
    "        self.vital_signs.append(vital_signs)\n",
    "\n",
    "    def associate_location(self, location):\n",
    "        self.locations.append(location)\n",
    "\n",
    "    def view_current_vital_signs(self):\n",
    "        return self.vital_signs[-1]\n",
    "\n",
    "    def view_historical_vital_signs(self):\n",
    "        return self.vital_signs\n",
    "\n",
    "# Example usage\n",
    "if __name__ == '__main__':\n",
    "    tracker = FitnessTracker(device_id='1234', battery_level=80, is_connected=True)\n",
    "    user = User(user_id='5678', name='John Doe', age=30, gender='Male', height=180, weight=75, contact_info='john.doe@example.com')\n",
    "\n",
    "    while True:\n",
    "        vital_signs = tracker.measure_vital_signs()\n",
    "        user.associate_vital_signs(vital_signs)\n",
    "        location = tracker.get_location()\n",
    "        user.associate_location(location)\n",
    "        time.sleep(60)  # wait for 1 minute before measuring again"
   ]
  },
  {
   "cell_type": "code",
   "execution_count": null,
   "id": "005a4972",
   "metadata": {},
   "outputs": [],
   "source": []
  }
 ],
 "metadata": {
  "kernelspec": {
   "display_name": "Python 3",
   "language": "python",
   "name": "python3"
  },
  "language_info": {
   "codemirror_mode": {
    "name": "ipython",
    "version": 3
   },
   "file_extension": ".py",
   "mimetype": "text/x-python",
   "name": "python",
   "nbconvert_exporter": "python",
   "pygments_lexer": "ipython3",
   "version": "3.8.8"
  }
 },
 "nbformat": 4,
 "nbformat_minor": 5
}
